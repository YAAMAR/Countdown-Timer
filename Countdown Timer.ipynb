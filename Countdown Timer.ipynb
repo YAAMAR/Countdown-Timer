{
 "cells": [
  {
   "cell_type": "markdown",
   "id": "7a6e7bcd-89c8-43bb-917a-15294d7cbcff",
   "metadata": {},
   "source": [
    "Countdown Timer"
   ]
  },
  {
   "cell_type": "markdown",
   "id": "851cea83-5aa3-4e42-9ed6-fe63ba18fb36",
   "metadata": {},
   "source": [
    "🎯 Goal\n",
    "Create a timer that counts down from a specified number of seconds and shows the remaining time in real-time."
   ]
  },
  {
   "cell_type": "markdown",
   "id": "8b425ded-27b0-4d18-8146-3f64a0d3539c",
   "metadata": {},
   "source": [
    "Import the Time Module"
   ]
  },
  {
   "cell_type": "code",
   "execution_count": 1,
   "id": "ee01c86b-38f9-48b4-b261-eed0df740306",
   "metadata": {},
   "outputs": [],
   "source": [
    "import time\n"
   ]
  },
  {
   "cell_type": "markdown",
   "id": "ffaf6d4b-d384-46df-a9e4-219741cc3e53",
   "metadata": {},
   "source": [
    "Get the Countdown Time from User"
   ]
  },
  {
   "cell_type": "code",
   "execution_count": 2,
   "id": "08d6b14d-c5d3-4518-9251-88f0eecfed4c",
   "metadata": {},
   "outputs": [
    {
     "name": "stdin",
     "output_type": "stream",
     "text": [
      "Enter time in seconds:  4\n"
     ]
    }
   ],
   "source": [
    "try:\n",
    "    total_seconds = int(input(\"Enter time in seconds: \"))\n",
    "except ValueError:\n",
    "    print(\"Please enter a valid number.\")\n"
   ]
  },
  {
   "cell_type": "markdown",
   "id": "51ca3029-cd67-4b14-89eb-269d5d897089",
   "metadata": {},
   "source": [
    "Countdown Loop"
   ]
  },
  {
   "cell_type": "code",
   "execution_count": 3,
   "id": "98888530-b410-4a3f-958d-318803797c6b",
   "metadata": {},
   "outputs": [
    {
     "name": "stdout",
     "output_type": "stream",
     "text": [
      "⏰ Time's up!\n"
     ]
    }
   ],
   "source": [
    "while total_seconds:\n",
    "    mins, secs = divmod(total_seconds, 60)\n",
    "    timer = f'{mins:02d}:{secs:02d}'\n",
    "    print(timer, end='\\r')  # overwrite same line\n",
    "    time.sleep(1)\n",
    "    total_seconds -= 1\n",
    "\n",
    "print(\"⏰ Time's up!\")\n"
   ]
  },
  {
   "cell_type": "code",
   "execution_count": null,
   "id": "7f6f105f-b1c7-41ea-9611-926bec31bf35",
   "metadata": {},
   "outputs": [],
   "source": []
  }
 ],
 "metadata": {
  "kernelspec": {
   "display_name": "Python 3 (ipykernel)",
   "language": "python",
   "name": "python3"
  },
  "language_info": {
   "codemirror_mode": {
    "name": "ipython",
    "version": 3
   },
   "file_extension": ".py",
   "mimetype": "text/x-python",
   "name": "python",
   "nbconvert_exporter": "python",
   "pygments_lexer": "ipython3",
   "version": "3.12.7"
  }
 },
 "nbformat": 4,
 "nbformat_minor": 5
}
